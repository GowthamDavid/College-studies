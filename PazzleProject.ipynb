{
 "cells": [
  {
   "cell_type": "code",
   "execution_count": 2,
   "id": "64849487",
   "metadata": {},
   "outputs": [],
   "source": [
    "import random"
   ]
  },
  {
   "cell_type": "code",
   "execution_count": 3,
   "id": "abacec1d",
   "metadata": {},
   "outputs": [],
   "source": [
    "def Puzzle_Game(matrix):\n",
    "    \n",
    "    # check the sum of 1st row and 1st column are same\n",
    "    if sum(matrix[0]) != sum(matrix[i][0] for i in range(4)):\n",
    "        return False\n",
    "    \n",
    "    # check the sum of 2nd row and 2nd column are same\n",
    "    if sum(matrix[1]) != sum(matrix[i][1] for i in range(4)):\n",
    "        return False\n",
    "    \n",
    "    # check the sum of 3rd row and 3rd column are same\n",
    "    if sum(matrix[2]) != sum(matrix[i][2] for i in range(4)):\n",
    "        return False\n",
    "    \n",
    "    return True"
   ]
  },
  {
   "cell_type": "code",
   "execution_count": 4,
   "id": "383fc7c9",
   "metadata": {},
   "outputs": [],
   "source": [
    "# Generate a Random Puzzle\n",
    "def Generate_Random_Puzzle():\n",
    "    \n",
    "    while True:\n",
    "        \n",
    "        # Generate a Random Permutationof the number 1 to 16\n",
    "        numbers = random.sample(range(1,17),16)\n",
    "        \n",
    "        # Reshape the list into 4x4 matrix\n",
    "        puzzle_matrix = [numbers[i:i+4] for i in range(0,16,4)]\n",
    "        \n",
    "        # Chect the matrix is puzzle_matrix\n",
    "        if Puzzle_Game(puzzle_matrix):\n",
    "            return puzzle_matrix"
   ]
  },
  {
   "cell_type": "code",
   "execution_count": 5,
   "id": "35876e25",
   "metadata": {},
   "outputs": [],
   "source": [
    "# displaying a Puzzle Matrix\n",
    "def Display_Puzzle_Matrix(matrix):\n",
    "    \n",
    "    for row in matrix:\n",
    "        print(*row)"
   ]
  },
  {
   "cell_type": "code",
   "execution_count": 6,
   "id": "10a52b50",
   "metadata": {},
   "outputs": [
    {
     "name": "stdout",
     "output_type": "stream",
     "text": [
      "Here is a 4x4 Puzzle Matrix with One Missing Value : \n",
      "11 4 6 16\n",
      "9 None 1 14\n",
      "10 8 15 2\n",
      "7 12 13 5\n",
      "Enter the Missing Value : 12\n",
      "Incorrect value. 2 attempts left. Try again.\n",
      "Enter the Missing Value : 16\n",
      "Incorrect value. 1 attempts left. Try again.\n",
      "Enter the Missing Value : 8\n",
      "Incorrect value. 0 attempts left. Try again.\n",
      "Sorry! The correct value was 3. Moving on to the next puzzle square.\n",
      "\n",
      "Here is a 4x4 Puzzle Matrix with One Missing Value : \n",
      "9 8 7 16\n",
      "6 11 14 None\n",
      "13 4 15 5\n",
      "12 10 1 3\n",
      "Enter the Missing Value : 2\n",
      "Your Value is Correct ! You are moving on to the next puzzle.\n",
      " \n",
      "Here is a 4x4 Puzzle Matrix with One Missing Value : \n",
      "6 None 9 8\n",
      "2 1 3 16\n",
      "7 4 14 11\n",
      "13 12 10 15\n",
      "Enter the Missing Value : 11\n",
      "Incorrect value. 2 attempts left. Try again.\n",
      "Enter the Missing Value : 5\n",
      "Your Value is Correct ! You are moving on to the next puzzle.\n",
      " \n"
     ]
    }
   ],
   "source": [
    "# Play Game\n",
    "\n",
    "def Play_Game():\n",
    "    \n",
    "    puzzle_matrix = Generate_Random_Puzzle()\n",
    "    \n",
    "    # Choose and Remove one value from puzzle_matrix in randomly\n",
    "    missing_value_position = random.choice([(i, j) for i in range(4) for j in range(4)])\n",
    "    missing_value = puzzle_matrix[missing_value_position[0]] [missing_value_position[1]]\n",
    "    puzzle_matrix[missing_value_position[0]][missing_value_position[1]] = None\n",
    "    \n",
    "    print(\"Here is a 4x4 Puzzle Matrix with One Missing Value : \")\n",
    "    Display_Puzzle_Matrix(puzzle_matrix)\n",
    "    \n",
    "    # User to fill the Missing Value\n",
    "    user_input = None\n",
    "    attempts = 3  # Number of Attempts allowed to fill the Missing Value\n",
    "    \n",
    "    while attempts > 0:\n",
    "        \n",
    "        try:\n",
    "            user_input = eval(input(\"Enter the Missing Value : \"))\n",
    "            \n",
    "            if user_input == missing_value:\n",
    "                print(\"Your Value is Correct ! You are moving on to the next puzzle.\\n \")\n",
    "                return\n",
    "            \n",
    "            else:\n",
    "                attempts -= 1\n",
    "                print(f\"Incorrect value. {attempts} attempts left. Try again.\")\n",
    "        \n",
    "        except ValueError:\n",
    "            print(\"Invalid input.Please enter a number.\")\n",
    "            \n",
    "    print(f\"Sorry! The correct value was {missing_value}. Moving on to the next puzzle square.\\n\")\n",
    "    \n",
    "# Play the 5 rounds\n",
    "for _ in range(3):\n",
    "    Play_Game() # Adjust the playing rounds\n",
    "    \n",
    "            "
   ]
  },
  {
   "cell_type": "code",
   "execution_count": null,
   "id": "12cf0401",
   "metadata": {},
   "outputs": [],
   "source": []
  }
 ],
 "metadata": {
  "kernelspec": {
   "display_name": "Python 3 (ipykernel)",
   "language": "python",
   "name": "python3"
  },
  "language_info": {
   "codemirror_mode": {
    "name": "ipython",
    "version": 3
   },
   "file_extension": ".py",
   "mimetype": "text/x-python",
   "name": "python",
   "nbconvert_exporter": "python",
   "pygments_lexer": "ipython3",
   "version": "3.11.4"
  }
 },
 "nbformat": 4,
 "nbformat_minor": 5
}
